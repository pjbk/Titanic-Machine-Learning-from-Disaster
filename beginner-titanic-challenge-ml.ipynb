{
 "cells": [
  {
   "cell_type": "markdown",
   "metadata": {},
   "source": [
    "# Titanic - Machine Learning from Disaster\n",
    "   **⸺ The legendary Titanic ML competition in Kaggle**\n",
    "\n",
    "![Titanic](https://cdn.activestate.com/wp-content/uploads/2021/05/kaggle-titanic-challenge.jpg)"
   ]
  },
  {
   "cell_type": "markdown",
   "metadata": {},
   "source": [
    "The sinking of the Titanic is one of the most infamous shipwrecks in history.\n",
    "\n",
    "On April 15, 1912, during her maiden voyage, the widely considered “unsinkable” RMS Titanic sank after colliding with an iceberg. Unfortunately, there weren’t enough lifeboats for everyone onboard, resulting in the death of 1502 out of 2224 passengers and crew. While there was some element of luck involved in surviving, it seems some groups of people were more likely to survive than others.\n",
    "\n",
    "In this challenge, it is asked to build a predictive model that answers the question: “what sorts of people were more likely to survive?” using passenger data. The dataset is available in [1].\n",
    "\n",
    "Simply, use machine learning to create a model that predicts which passengers survived the Titanic shipwreck."
   ]
  },
  {
   "cell_type": "code",
   "execution_count": 1,
   "metadata": {
    "execution": {
     "iopub.execute_input": "2021-01-15T13:49:00.493308Z",
     "iopub.status.busy": "2021-01-15T13:49:00.492543Z",
     "iopub.status.idle": "2021-01-15T13:49:02.252299Z",
     "shell.execute_reply": "2021-01-15T13:49:02.251032Z"
    },
    "papermill": {
     "duration": 1.783998,
     "end_time": "2021-01-15T13:49:02.252455",
     "exception": false,
     "start_time": "2021-01-15T13:49:00.468457",
     "status": "completed"
    },
    "tags": []
   },
   "outputs": [],
   "source": [
    "#Initialization of python libraries\n",
    "import pandas as pd\n",
    "import numpy as np\n",
    "import matplotlib.pyplot as plt\n",
    "import seaborn as sns\n",
    "%matplotlib inline\n",
    "\n",
    "from sklearn import metrics\n",
    "from sklearn.ensemble import RandomForestClassifier\n",
    "from pandas import Series, DataFrame\n",
    "from sklearn.model_selection import KFold\n",
    "from sklearn.preprocessing import StandardScaler\n",
    "from sklearn.model_selection import cross_val_score\n",
    "from sklearn.model_selection import GridSearchCV\n",
    "from sklearn.model_selection import RandomizedSearchCV\n",
    "from sklearn.decomposition import PCA\n",
    "np.random.seed(500)\n",
    "import warnings\n",
    "from warnings import simplefilter\n",
    "simplefilter(action='ignore', category=FutureWarning)"
   ]
  },
  {
   "cell_type": "code",
   "execution_count": 2,
   "metadata": {
    "execution": {
     "iopub.execute_input": "2021-01-15T13:49:02.281762Z",
     "iopub.status.busy": "2021-01-15T13:49:02.281023Z",
     "iopub.status.idle": "2021-01-15T13:49:02.306839Z",
     "shell.execute_reply": "2021-01-15T13:49:02.306180Z"
    },
    "papermill": {
     "duration": 0.04228,
     "end_time": "2021-01-15T13:49:02.306958",
     "exception": false,
     "start_time": "2021-01-15T13:49:02.264678",
     "status": "completed"
    },
    "tags": []
   },
   "outputs": [],
   "source": [
    "#Read dataset\n",
    "train = pd.read_csv(\"../input/titanic/train.csv\")\n",
    "test = pd.read_csv(\"../input/titanic/test.csv\")"
   ]
  },
  {
   "cell_type": "code",
   "execution_count": 3,
   "metadata": {
    "execution": {
     "iopub.execute_input": "2021-01-15T13:49:02.336420Z",
     "iopub.status.busy": "2021-01-15T13:49:02.335679Z",
     "iopub.status.idle": "2021-01-15T13:49:02.361909Z",
     "shell.execute_reply": "2021-01-15T13:49:02.362394Z"
    },
    "papermill": {
     "duration": 0.04562,
     "end_time": "2021-01-15T13:49:02.362541",
     "exception": false,
     "start_time": "2021-01-15T13:49:02.316921",
     "status": "completed"
    },
    "tags": []
   },
   "outputs": [
    {
     "name": "stdout",
     "output_type": "stream",
     "text": [
      "<class 'pandas.core.frame.DataFrame'>\n",
      "RangeIndex: 891 entries, 0 to 890\n",
      "Data columns (total 12 columns):\n",
      " #   Column       Non-Null Count  Dtype  \n",
      "---  ------       --------------  -----  \n",
      " 0   PassengerId  891 non-null    int64  \n",
      " 1   Survived     891 non-null    int64  \n",
      " 2   Pclass       891 non-null    int64  \n",
      " 3   Name         891 non-null    object \n",
      " 4   Sex          891 non-null    object \n",
      " 5   Age          714 non-null    float64\n",
      " 6   SibSp        891 non-null    int64  \n",
      " 7   Parch        891 non-null    int64  \n",
      " 8   Ticket       891 non-null    object \n",
      " 9   Fare         891 non-null    float64\n",
      " 10  Cabin        204 non-null    object \n",
      " 11  Embarked     889 non-null    object \n",
      "dtypes: float64(2), int64(5), object(5)\n",
      "memory usage: 83.7+ KB\n",
      "<class 'pandas.core.frame.DataFrame'>\n",
      "RangeIndex: 418 entries, 0 to 417\n",
      "Data columns (total 11 columns):\n",
      " #   Column       Non-Null Count  Dtype  \n",
      "---  ------       --------------  -----  \n",
      " 0   PassengerId  418 non-null    int64  \n",
      " 1   Pclass       418 non-null    int64  \n",
      " 2   Name         418 non-null    object \n",
      " 3   Sex          418 non-null    object \n",
      " 4   Age          332 non-null    float64\n",
      " 5   SibSp        418 non-null    int64  \n",
      " 6   Parch        418 non-null    int64  \n",
      " 7   Ticket       418 non-null    object \n",
      " 8   Fare         417 non-null    float64\n",
      " 9   Cabin        91 non-null     object \n",
      " 10  Embarked     418 non-null    object \n",
      "dtypes: float64(2), int64(4), object(5)\n",
      "memory usage: 36.0+ KB\n"
     ]
    }
   ],
   "source": [
    "#Look into dataset properties\n",
    "train.info(); test.info()"
   ]
  },
  {
   "cell_type": "raw",
   "metadata": {},
   "source": [
    "Training set has 891 rows and test set has 418 rows,\n",
    "Training set have 12 features and test set have 11 features. \n",
    "One extra feature in training set is Survived feature, which is the target variable.\n",
    "\n",
    "PassengerId is the unique id of the row and it doesn't have any effect on target\n",
    "\n",
    "Survived is the target variable we are trying to predict (0 or 1):\n",
    "1 = Survived\n",
    "0 = Not Survived\n",
    "\n",
    "Pclass (Passenger Class) is the socio-economic status of the passenger and it is a categorical ordinal feature which has 3 unique values (1, 2 or 3):\n",
    "1 = Upper Class\n",
    "2 = Middle Class\n",
    "3 = Lower Class\n",
    "\n",
    "Name, Sex and Age are self-explanatory\n",
    "SibSp is the total number of the passengers' siblings and spouse\n",
    "Parch is the total number of the passengers' parents and children\n",
    "Ticket is the ticket number of the passenger\n",
    "Fare is the passenger fare\n",
    "Cabin is the cabin number of the passenger\n",
    "\n",
    "Embarked is port of embarkation and it is a categorical feature which has 3 unique values (C, Q or S):\n",
    "C = Cherbourg\n",
    "Q = Queenstown\n",
    "S = Southampton"
   ]
  },
  {
   "cell_type": "code",
   "execution_count": 4,
   "metadata": {
    "execution": {
     "iopub.execute_input": "2021-01-15T13:49:02.386840Z",
     "iopub.status.busy": "2021-01-15T13:49:02.386178Z",
     "iopub.status.idle": "2021-01-15T13:49:02.929793Z",
     "shell.execute_reply": "2021-01-15T13:49:02.928767Z"
    },
    "papermill": {
     "duration": 0.556749,
     "end_time": "2021-01-15T13:49:02.929915",
     "exception": false,
     "start_time": "2021-01-15T13:49:02.373166",
     "status": "completed"
    },
    "tags": []
   },
   "outputs": [
    {
     "name": "stdout",
     "output_type": "stream",
     "text": [
      "Died        549\n",
      "Survived    342\n",
      "Name: Survived, dtype: int64 \n",
      "\n",
      "      Sex  Survived\n",
      "0  female  0.742038\n",
      "1    male  0.188908\n",
      "\n",
      "\n",
      "   Pclass  Survived\n",
      "0       1  0.629630\n",
      "1       2  0.472826\n",
      "2       3  0.242363\n"
     ]
    },
    {
     "data": {
      "text/plain": [
       "Text(0.5, 1.0, 'Survival considering Ticket Class')"
      ]
     },
     "execution_count": 4,
     "metadata": {},
     "output_type": "execute_result"
    },
    {
     "data": {
      "image/png": "[encoded data removed]",
      "text/plain": [
       "<Figure size 864x432 with 3 Axes>"
      ]
     },
     "metadata": {
      "needs_background": "light"
     },
     "output_type": "display_data"
    }
   ],
   "source": [
    "#Data Visualization respect to Survival rate\n",
    "\n",
    "#Distribution of Survival\n",
    "fig = plt.figure(figsize=(12,6)) \n",
    "plt.subplot2grid((2,3),(0,0))\n",
    "SV= train.Survived.value_counts()\n",
    "SV.index = ['Died','Survived']\n",
    "SV.plot(kind='bar'); plt.title(\"Distribution of Survival\") \n",
    "print(SV, '\\n')\n",
    "\n",
    "#Distribution of Survival considering Gender\n",
    "plt.subplot2grid((2,3),(0,1))\n",
    "sns.countplot(x='Sex', hue='Survived', data=train)\n",
    "print(train[[\"Sex\", \"Survived\"]].groupby(['Sex'], as_index=False).mean())\n",
    "plt.legend(('Died', 'Survived')); plt.title(\"Survival considering Gender\") \n",
    "\n",
    "#Distribution of Survival considering Ticket Class\n",
    "print('\\n')\n",
    "plt.subplot2grid((2,3),(0,2))\n",
    "sns.countplot(x='Pclass', hue='Survived', data=train)\n",
    "print(train[['Pclass', 'Survived']].groupby(['Pclass'], as_index=False).mean())\n",
    "plt.legend(('Died', 'Survived')); plt.title(\"Survival considering Ticket Class\") "
   ]
  },
  {
   "cell_type": "code",
   "execution_count": 5,
   "metadata": {
    "execution": {
     "iopub.execute_input": "2021-01-15T13:49:03.053019Z",
     "iopub.status.busy": "2021-01-15T13:49:02.963736Z",
     "iopub.status.idle": "2021-01-15T13:49:03.517086Z",
     "shell.execute_reply": "2021-01-15T13:49:03.516422Z"
    },
    "papermill": {
     "duration": 0.574841,
     "end_time": "2021-01-15T13:49:03.517197",
     "exception": false,
     "start_time": "2021-01-15T13:49:02.942356",
     "status": "completed"
    },
    "tags": []
   },
   "outputs": [
    {
     "name": "stdout",
     "output_type": "stream",
     "text": [
      "  Embarked  Survived\n",
      "0        C  0.553571\n",
      "1        Q  0.389610\n",
      "2        S  0.336957\n"
     ]
    },
    {
     "data": {
      "text/plain": [
       "Text(0.5, 1.0, 'Survival considering Port of Embarkation')"
      ]
     },
     "execution_count": 5,
     "metadata": {},
     "output_type": "execute_result"
    },
    {
     "data": {
      "image/png": "[encoded data removed]",
      "text/plain": [
       "<Figure size 864x432 with 2 Axes>"
      ]
     },
     "metadata": {
      "needs_background": "light"
     },
     "output_type": "display_data"
    }
   ],
   "source": [
    "#Age Distribution within classes\n",
    "fig = plt.figure(figsize=(12,6)) \n",
    "plt.subplot2grid((2,3),(0,0), colspan=2)\n",
    "train.Age[train.Pclass == 1].plot(kind='kde')    \n",
    "train.Age[train.Pclass == 2].plot(kind='kde')\n",
    "train.Age[train.Pclass == 3].plot(kind='kde')\n",
    "plt.title(\"Age Distribution within classes\"); plt.xlabel(\"Age\"); plt.legend(('1st Class', '2nd Class','3rd Class')) \n",
    "\n",
    "#Distribution of Survival considering Port of Embarkation\n",
    "plt.subplot2grid((2,3),(0,2))\n",
    "sns.countplot(x='Embarked', hue='Survived', data=train)\n",
    "print(train[['Embarked', 'Survived']].groupby(['Embarked'], as_index=False).mean())\n",
    "plt.legend(('Died', 'Survived')); plt.title(\"Survival considering Port of Embarkation\") "
   ]
  },
  {
   "cell_type": "code",
   "execution_count": 6,
   "metadata": {
    "execution": {
     "iopub.execute_input": "2021-01-15T13:49:03.555268Z",
     "iopub.status.busy": "2021-01-15T13:49:03.554519Z",
     "iopub.status.idle": "2021-01-15T13:49:03.558574Z",
     "shell.execute_reply": "2021-01-15T13:49:03.557939Z"
    },
    "papermill": {
     "duration": 0.026367,
     "end_time": "2021-01-15T13:49:03.558690",
     "exception": false,
     "start_time": "2021-01-15T13:49:03.532323",
     "status": "completed"
    },
    "tags": []
   },
   "outputs": [],
   "source": [
    "#Delete insignificant data from the dataset\n",
    "Arrange_train = train.drop(['PassengerId','Name','Ticket','Cabin','Survived'], axis=1)\n",
    "Arrange_test = test.drop(['PassengerId','Name','Ticket','Cabin'], axis=1)"
   ]
  },
  {
   "cell_type": "code",
   "execution_count": 7,
   "metadata": {
    "execution": {
     "iopub.execute_input": "2021-01-15T13:49:03.595270Z",
     "iopub.status.busy": "2021-01-15T13:49:03.594561Z",
     "iopub.status.idle": "2021-01-15T13:49:03.600167Z",
     "shell.execute_reply": "2021-01-15T13:49:03.600746Z"
    },
    "papermill": {
     "duration": 0.027394,
     "end_time": "2021-01-15T13:49:03.600889",
     "exception": false,
     "start_time": "2021-01-15T13:49:03.573495",
     "status": "completed"
    },
    "tags": []
   },
   "outputs": [],
   "source": [
    "#Care of Missing Values\n",
    "Arrange_train['Age'].fillna(Arrange_train['Age'].median(), inplace=True)\n",
    "Arrange_train['Embarked'].fillna(Arrange_train['Embarked'].mode()[0], inplace=True)\n",
    "Arrange_test['Age'].fillna(Arrange_test['Age'].median(), inplace=True)\n",
    "Arrange_test['Fare'].fillna(Arrange_test['Fare'].median(), inplace=True)"
   ]
  },
  {
   "cell_type": "code",
   "execution_count": 8,
   "metadata": {
    "execution": {
     "iopub.execute_input": "2021-01-15T13:49:03.635504Z",
     "iopub.status.busy": "2021-01-15T13:49:03.634799Z",
     "iopub.status.idle": "2021-01-15T13:49:03.644847Z",
     "shell.execute_reply": "2021-01-15T13:49:03.645503Z"
    },
    "papermill": {
     "duration": 0.02959,
     "end_time": "2021-01-15T13:49:03.645661",
     "exception": false,
     "start_time": "2021-01-15T13:49:03.616071",
     "status": "completed"
    },
    "tags": []
   },
   "outputs": [],
   "source": [
    "#changing Categorical(Sex, Embarked) into numerical\n",
    "#Train data\n",
    "SetSexTR = Arrange_train['Sex'].copy().values\n",
    "SetSexTR[SetSexTR == 'male'] = 0 \n",
    "SetSexTR[SetSexTR == 'female'] = 1 \n",
    "SetEmbTR = Arrange_train['Embarked'].copy().values\n",
    "SetEmbTR[SetEmbTR =='S'] = 0 \n",
    "SetEmbTR[SetEmbTR =='C'] = 1\n",
    "SetEmbTR[SetEmbTR =='Q'] = 2\n",
    "#Test data\n",
    "SetSex = Arrange_test['Sex'].copy().values\n",
    "SetSex[SetSex == 'male'] = 0  \n",
    "SetSex[SetSex == 'female'] = 1 \n",
    "SetEmb = Arrange_test['Embarked'].copy().values\n",
    "SetEmb[SetEmb =='S'] = 0 \n",
    "SetEmb[SetEmb =='C'] = 1\n",
    "SetEmb[SetEmb =='Q'] = 2"
   ]
  },
  {
   "cell_type": "code",
   "execution_count": 9,
   "metadata": {
    "execution": {
     "iopub.execute_input": "2021-01-15T13:49:03.679108Z",
     "iopub.status.busy": "2021-01-15T13:49:03.678381Z",
     "iopub.status.idle": "2021-01-15T13:49:03.686695Z",
     "shell.execute_reply": "2021-01-15T13:49:03.687213Z"
    },
    "papermill": {
     "duration": 0.026251,
     "end_time": "2021-01-15T13:49:03.687407",
     "exception": false,
     "start_time": "2021-01-15T13:49:03.661156",
     "status": "completed"
    },
    "tags": []
   },
   "outputs": [],
   "source": [
    "#assigning the numeric values to columns that held string values\n",
    "#Train data\n",
    "X_train = Arrange_train.copy()\n",
    "X_train.loc[:,'Sex'] = SetSexTR \n",
    "X_train.loc[:,'Embarked'] = SetEmbTR\n",
    "Y_train = train['Survived'].astype(int)\n",
    "#Test data\n",
    "X_test = Arrange_test.copy()\n",
    "X_test.loc[:,'Sex'] = SetSex \n",
    "X_test.loc[:,'Embarked'] = SetEmb"
   ]
  },
  {
   "cell_type": "code",
   "execution_count": 10,
   "metadata": {
    "execution": {
     "iopub.execute_input": "2021-01-15T13:49:03.737510Z",
     "iopub.status.busy": "2021-01-15T13:49:03.736060Z",
     "iopub.status.idle": "2021-01-15T13:49:03.819346Z",
     "shell.execute_reply": "2021-01-15T13:49:03.821002Z"
    },
    "papermill": {
     "duration": 0.116024,
     "end_time": "2021-01-15T13:49:03.821351",
     "exception": false,
     "start_time": "2021-01-15T13:49:03.705327",
     "status": "completed"
    },
    "tags": []
   },
   "outputs": [],
   "source": [
    "#Standardize the features \n",
    "sc = StandardScaler()\n",
    "X_train = sc.fit_transform(X_train)\n",
    "X_test = sc.transform(X_test)\n",
    "\n",
    "#Apply Principal Component Analysis (PCA) \n",
    "pca = PCA(n_components = 2)\n",
    "X_train = pca.fit_transform(X_train)\n",
    "X_test = pca.transform(X_test)\n",
    "explained_variance = pca.explained_variance_ratio_"
   ]
  },
  {
   "cell_type": "code",
   "execution_count": 11,
   "metadata": {
    "execution": {
     "iopub.execute_input": "2021-01-15T13:49:03.873818Z",
     "iopub.status.busy": "2021-01-15T13:49:03.872975Z",
     "iopub.status.idle": "2021-01-15T13:49:08.387638Z",
     "shell.execute_reply": "2021-01-15T13:49:08.386753Z"
    },
    "papermill": {
     "duration": 4.542855,
     "end_time": "2021-01-15T13:49:08.387763",
     "exception": false,
     "start_time": "2021-01-15T13:49:03.844908",
     "status": "completed"
    },
    "tags": []
   },
   "outputs": [
    {
     "name": "stdout",
     "output_type": "stream",
     "text": [
      "Fitting 5 folds for each of 6 candidates, totalling 30 fits\n"
     ]
    },
    {
     "name": "stderr",
     "output_type": "stream",
     "text": [
      "[Parallel(n_jobs=4)]: Using backend LokyBackend with 4 concurrent workers.\n",
      "[Parallel(n_jobs=4)]: Done  30 out of  30 | elapsed:    4.2s finished\n"
     ]
    },
    {
     "name": "stdout",
     "output_type": "stream",
     "text": [
      "Best: 0.762080 using {'max_features': 'log2', 'n_estimators': 100}\n",
      "RandomForestClassifier(max_features='log2')\n"
     ]
    }
   ],
   "source": [
    "#Hyperparemeter tunung of Classifire with GridSearchCV\n",
    "model = RandomForestClassifier()\n",
    "n_estimators = [10, 50, 100]\n",
    "max_features = ['sqrt', 'log2']\n",
    "# define grid search\n",
    "grid = dict(n_estimators=n_estimators,max_features=max_features)\n",
    "k= KFold(n_splits=5, random_state=100)\n",
    "grid_search = GridSearchCV(estimator=model, param_grid=grid, cv=k,n_jobs=4, scoring='accuracy',error_score=0, verbose=1)\n",
    "grid_result = grid_search.fit(X_train, Y_train)\n",
    "# summarize results\n",
    "print(\"Best: %f using %s\" % (grid_result.best_score_, grid_result.best_params_))\n",
    "print(grid_result.best_estimator_)"
   ]
  },
  {
   "cell_type": "code",
   "execution_count": 12,
   "metadata": {
    "execution": {
     "iopub.execute_input": "2021-01-15T13:49:08.432037Z",
     "iopub.status.busy": "2021-01-15T13:49:08.431310Z",
     "iopub.status.idle": "2021-01-15T13:49:12.492529Z",
     "shell.execute_reply": "2021-01-15T13:49:12.491933Z"
    },
    "papermill": {
     "duration": 4.087969,
     "end_time": "2021-01-15T13:49:12.492655",
     "exception": false,
     "start_time": "2021-01-15T13:49:08.404686",
     "status": "completed"
    },
    "tags": []
   },
   "outputs": [
    {
     "name": "stdout",
     "output_type": "stream",
     "text": [
      "Fitting 10 folds for each of 6 candidates, totalling 60 fits\n"
     ]
    },
    {
     "name": "stderr",
     "output_type": "stream",
     "text": [
      "/opt/conda/lib/python3.7/site-packages/sklearn/model_selection/_search.py:282: UserWarning: The total space of parameters 6 is smaller than n_iter=200. Running 6 iterations. For exhaustive searches, use GridSearchCV.\n",
      "  % (grid_size, self.n_iter, grid_size), UserWarning)\n",
      "[Parallel(n_jobs=-1)]: Using backend LokyBackend with 4 concurrent workers.\n",
      "[Parallel(n_jobs=-1)]: Done  60 out of  60 | elapsed:    3.8s finished\n"
     ]
    },
    {
     "name": "stdout",
     "output_type": "stream",
     "text": [
      "Best: 0.763296 using {'n_estimators': 100, 'max_features': 'sqrt'}\n",
      "RandomForestClassifier(max_features='sqrt')\n"
     ]
    }
   ],
   "source": [
    "#Hyperparemeter tunung of Classifire with RandomizedSearchCV\n",
    "model = RandomForestClassifier()\n",
    "n_iter_search = 200\n",
    "k= KFold(n_splits=10, random_state=100)\n",
    "rand_param = {\n",
    "    'n_estimators': [10, 50, 100],\n",
    "    'max_features': ['sqrt', 'log2']\n",
    " }\n",
    "Rf_search = RandomizedSearchCV(model, param_distributions=rand_param, n_iter=n_iter_search, cv=k, n_jobs=-1, verbose=1)\n",
    "Rf_result = Rf_search.fit(X_train, Y_train)\n",
    "# summarize results\n",
    "print(\"Best: %f using %s\" % (Rf_result.best_score_, Rf_result.best_params_))\n",
    "print(Rf_result.best_estimator_)"
   ]
  },
  {
   "cell_type": "code",
   "execution_count": 13,
   "metadata": {
    "execution": {
     "iopub.execute_input": "2021-01-15T13:49:12.536446Z",
     "iopub.status.busy": "2021-01-15T13:49:12.535720Z",
     "iopub.status.idle": "2021-01-15T13:49:13.266164Z",
     "shell.execute_reply": "2021-01-15T13:49:13.266663Z"
    },
    "papermill": {
     "duration": 0.755794,
     "end_time": "2021-01-15T13:49:13.266819",
     "exception": false,
     "start_time": "2021-01-15T13:49:12.511025",
     "status": "completed"
    },
    "scrolled": true,
    "tags": []
   },
   "outputs": [
    {
     "name": "stdout",
     "output_type": "stream",
     "text": [
      "Cross-validation accuracy: 0.7644\n"
     ]
    }
   ],
   "source": [
    "#Perform training using optimal model(having tuned hyperparemeter) with cross validation\n",
    "model = RandomForestClassifier(max_features='sqrt', n_estimators=50)\n",
    "score = cross_val_score(model, X_train, Y_train, cv=10, n_jobs=4)\n",
    "model.fit(X_train, Y_train)\n",
    "print(\"Cross-validation accuracy: {0:.4f}\".format(score.mean()))\n",
    "\n",
    "#Perform Prediction on test data\n",
    "y_pred = model.predict(X_test)"
   ]
  },
  {
   "cell_type": "raw",
   "metadata": {},
   "source": [
    "Ref.\n",
    "[1]. https://www.kaggle.com/c/titanic"
   ]
  },
  {
   "cell_type": "markdown",
   "metadata": {},
   "source": [
    "***For more exciting notebooks visit my Kaggle workspace!***  [ https://www.kaggle.com/pankajbhowmik ]"
   ]
  }
 ],
 "metadata": {
  "kernelspec": {
   "display_name": "Python 3",
   "language": "python",
   "name": "python3"
  },
  "language_info": {
   "codemirror_mode": {
    "name": "ipython",
    "version": 3
   },
   "file_extension": ".py",
   "mimetype": "text/x-python",
   "name": "python",
   "nbconvert_exporter": "python",
   "pygments_lexer": "ipython3",
   "version": "3.8.3"
  },
  "papermill": {
   "duration": 18.422952,
   "end_time": "2021-01-15T13:49:13.406960",
   "environment_variables": {},
   "exception": null,
   "input_path": "__notebook__.ipynb",
   "output_path": "__notebook__.ipynb",
   "parameters": {},
   "start_time": "2021-01-15T13:48:54.984008",
   "version": "2.1.0"
  }
 },
 "nbformat": 4,
 "nbformat_minor": 4
}
